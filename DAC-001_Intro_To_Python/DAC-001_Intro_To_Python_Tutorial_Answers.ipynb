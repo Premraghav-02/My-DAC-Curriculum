{
 "cells": [
  {
   "cell_type": "markdown",
   "metadata": {},
   "source": [
    "Question 1"
   ]
  },
  {
   "cell_type": "code",
   "execution_count": 8,
   "metadata": {},
   "outputs": [
    {
     "name": "stdout",
     "output_type": "stream",
     "text": [
      "['apple', 'orange', 'banana']\n",
      "['apple', 'orange', 'banana', 'tomato']\n",
      "['orange', 'banana', 'tomato']\n"
     ]
    }
   ],
   "source": [
    "#(a)\n",
    "Fruit_list = [\"apple\",\"orange\",\"banana\"]\n",
    "print(Fruit_list)\n",
    "#(b)\n",
    "Fruit_list.append(\"tomato\")\n",
    "print(Fruit_list)\n",
    "#(c)\n",
    "Fruit_list.remove(\"apple\")\n",
    "print(Fruit_list)\n"
   ]
  },
  {
   "cell_type": "markdown",
   "metadata": {},
   "source": [
    "Question 2"
   ]
  },
  {
   "cell_type": "code",
   "execution_count": 20,
   "metadata": {},
   "outputs": [
    {
     "name": "stdout",
     "output_type": "stream",
     "text": [
      "['physics', 'chemistry', 'english', 'math', 'biology', 'literature']\n",
      "6\n"
     ]
    }
   ],
   "source": [
    "#(a)\n",
    "Subjects = (\"physics\", \"chemistry\", \"english\", \"math\", \"biology\")\n",
    "type(Subjects)\n",
    "#(b)\n",
    "\n",
    "#alternative way to execute\n",
    "tuplelist = list(Subjects)\n",
    "tuplelist.append(\"literature\")\n",
    "print(tuplelist)\n",
    "#(c)\n",
    "length_of_tuplelist = len(tuplelist)\n",
    "print(length_of_tuplelist)\n"
   ]
  },
  {
   "cell_type": "markdown",
   "metadata": {},
   "source": [
    "Question 3"
   ]
  },
  {
   "cell_type": "code",
   "execution_count": 25,
   "metadata": {},
   "outputs": [
    {
     "name": "stdout",
     "output_type": "stream",
     "text": [
      "[10, 6, 7, 8, 9, 31]\n",
      "[31, 9, 8, 7, 6, 10]\n",
      "[]\n"
     ]
    }
   ],
   "source": [
    "#(a)\n",
    "Students_Id = [10, 6, 7, 8, 9, 31]\n",
    "print(Students_Id)\n",
    "#(b)\n",
    "Students_Id.reverse()\n",
    "print(Students_Id)\n",
    "sorted_students_id = Students_Id\n",
    "#(c)\n",
    "sorted_students_id.clear()\n",
    "print(sorted_students_id)\n",
    "\n"
   ]
  },
  {
   "cell_type": "markdown",
   "metadata": {},
   "source": [
    "Question 4"
   ]
  },
  {
   "cell_type": "code",
   "execution_count": 26,
   "metadata": {},
   "outputs": [
    {
     "name": "stdout",
     "output_type": "stream",
     "text": [
      "[15, 12, 9, 6, 3]\n"
     ]
    }
   ],
   "source": [
    "desc_list = list(range(15, 0, -3))\n",
    "print(desc_list)"
   ]
  },
  {
   "cell_type": "markdown",
   "metadata": {},
   "source": [
    "Question 5"
   ]
  },
  {
   "cell_type": "code",
   "execution_count": 29,
   "metadata": {},
   "outputs": [
    {
     "name": "stdout",
     "output_type": "stream",
     "text": [
      "[2, 4, 6, 8, 10, 12, 14, 16, 18, 20, 22, 24, 26, 28]\n"
     ]
    }
   ],
   "source": [
    "asc_list = list(range(2, 2*15, +2))\n",
    "print(asc_list)"
   ]
  },
  {
   "cell_type": "markdown",
   "metadata": {},
   "source": [
    "Question 6"
   ]
  },
  {
   "cell_type": "code",
   "execution_count": 31,
   "metadata": {},
   "outputs": [
    {
     "name": "stdout",
     "output_type": "stream",
     "text": [
      "[15, 12, 9, 6, 3, 2, 4, 6, 8, 10, 12, 14, 16, 18, 20, 22, 24, 26, 28]\n",
      "[15, 9, 3]\n",
      "[12, 6, 2, 4, 6, 8, 10, 12, 14, 16, 18, 20, 22, 24, 26, 28]\n"
     ]
    }
   ],
   "source": [
    "#(a)\n",
    "combined_list = desc_list + asc_list\n",
    "print(combined_list)\n",
    "#(b)\n",
    "odd = []\n",
    "even = []\n",
    "for i in combined_list:\n",
    "    if i % 2 == 0:\n",
    "        even.append(i)\n",
    "    else:\n",
    "        odd.append(i)    \n",
    "print(odd)\n",
    "print(even)        "
   ]
  },
  {
   "cell_type": "markdown",
   "metadata": {},
   "source": [
    "Question 7"
   ]
  },
  {
   "cell_type": "code",
   "execution_count": 46,
   "metadata": {},
   "outputs": [
    {
     "name": "stdout",
     "output_type": "stream",
     "text": [
      "Area is : 50.285714285714285\n"
     ]
    }
   ],
   "source": [
    "def circle_properties(radius):\n",
    "    area = 22/7 * radius**2\n",
    "    return area\n",
    "result = circle_properties(4)\n",
    "print(\"Area is :\", result)"
   ]
  },
  {
   "cell_type": "markdown",
   "metadata": {},
   "source": [
    "Question 8"
   ]
  },
  {
   "cell_type": "code",
   "execution_count": 62,
   "metadata": {},
   "outputs": [
    {
     "name": "stdout",
     "output_type": "stream",
     "text": [
      "Star sign for 17/2 is Aquarius\n"
     ]
    }
   ],
   "source": [
    "def star_sign(day, month):\n",
    "    star_signs = [(\"Aries\", (21, 3), (19, 4)),\n",
    "                  (\"Taurus\", (20, 4), (20, 5)),\n",
    "                  (\"Gemini\", (21, 5), (21, 6)),\n",
    "                  (\"Cancer\", (22, 6), (22, 7)),\n",
    "                  (\"Leo\", (23, 7), (22, 8)),\n",
    "                  (\"Virgo\", (23, 8), (22, 9)),\n",
    "                  (\"Libra\", (23, 9), (23, 10)),\n",
    "                  (\"Scorpion\", (24, 10), (21, 11)),\n",
    "                  (\"Saggitarius\", (22, 11), (21, 12)),\n",
    "                  (\"Capricorn\", (22, 12), (19, 1)),\n",
    "                  (\"Aquarius\", (20, 1), (18, 2)),\n",
    "                  (\"Pisces\", (19, 2), (20, 3))]\n",
    "    \n",
    "    for sign, start_date, end_date in star_signs:\n",
    "        if (month == start_date[1] and day >= start_date[0]) or \\\n",
    "           (month == end_date[1] and day >= end_date[0]) or \\\n",
    "           (start_date[1] < month < end_date[1]) or \\\n",
    "           (start_date[1] == month and day >= start_date[0]) or \\\n",
    "           (end_date[1] == month and day <= end_date[0]):\n",
    "            return sign\n",
    "    return \"Invalid Date\"    \n",
    "\n",
    "if __name__ == \"__main__\":\n",
    "    day = 17\n",
    "    month = 2\n",
    "    print(f\"Star sign for {day}/{month} is {star_sign(day, month)}\")\n",
    "        \n",
    "\n",
    "\n",
    "\n",
    "\n",
    "\n",
    "        \n",
    "        \n",
    "    \n",
    "        \n",
    "\n",
    "        \n",
    "        \n",
    "        \n"
   ]
  },
  {
   "cell_type": "markdown",
   "metadata": {},
   "source": [
    "Question 9\n"
   ]
  },
  {
   "cell_type": "code",
   "execution_count": 38,
   "metadata": {},
   "outputs": [
    {
     "name": "stdout",
     "output_type": "stream",
     "text": [
      "{'Alice': 85, 'Bob': 90, 'Charlie': 78}\n",
      "{'Alice': 85, 'Bob': 90, 'Charlie': 78, 'David': 92}\n",
      "{'Alice': 88, 'Bob': 90, 'Charlie': 78, 'David': 92}\n"
     ]
    }
   ],
   "source": [
    "#(a)\n",
    "student_grades = {\"Alice\": 85, \"Bob\": 90, \"Charlie\": 78}\n",
    "print(student_grades)\n",
    "#(b)\n",
    "student_grades[\"David\"] = 92\n",
    "print(student_grades)\n",
    "#(c)\n",
    "student_grades[\"Alice\"] = 88\n",
    "print(student_grades)"
   ]
  },
  {
   "cell_type": "markdown",
   "metadata": {},
   "source": [
    "Question 10"
   ]
  },
  {
   "cell_type": "code",
   "execution_count": 49,
   "metadata": {},
   "outputs": [
    {
     "name": "stdout",
     "output_type": "stream",
     "text": [
      "{'apple': 3, 'banana': 2, 'orange': 1}\n"
     ]
    }
   ],
   "source": [
    "fruits_list = [\"apple\", \"banana\", \"apple\", \"orange\", \"banana\", \"apple\"]\n",
    "fruit_count = {}\n",
    "\n",
    "for fruit in fruits_list:\n",
    "    if fruit in fruit_count:\n",
    "        fruit_count[fruit] += 1\n",
    "    else:\n",
    "        fruit_count[fruit] = 1\n",
    "\n",
    "\n",
    "print(fruit_count)           \n",
    "\n"
   ]
  }
 ],
 "metadata": {
  "kernelspec": {
   "display_name": "Python 3",
   "language": "python",
   "name": "python3"
  },
  "language_info": {
   "codemirror_mode": {
    "name": "ipython",
    "version": 3
   },
   "file_extension": ".py",
   "mimetype": "text/x-python",
   "name": "python",
   "nbconvert_exporter": "python",
   "pygments_lexer": "ipython3",
   "version": "3.12.6"
  }
 },
 "nbformat": 4,
 "nbformat_minor": 2
}
